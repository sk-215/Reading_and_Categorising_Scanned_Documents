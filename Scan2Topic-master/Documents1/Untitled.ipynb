{
 "cells": [
  {
   "cell_type": "code",
   "execution_count": 47,
   "metadata": {},
   "outputs": [
    {
     "name": "stdout",
     "output_type": "stream",
     "text": [
      "Reading files\n",
      "Preprocessing Text\n",
      "Extracting Topics\n",
      "0\n",
      "0\n",
      "5\n",
      "8\n",
      "0\n",
      "2\n",
      "6\n",
      "9\n",
      "2\n",
      "1\n",
      "8\n",
      "7\n",
      "0\n"
     ]
    }
   ],
   "source": [
    "import os\n",
    "os.chdir('..')\n",
    "\n",
    "from Code.functions import preprocess, image_to_text, find_topic, run_lda, topic_label\n",
    "from PIL import Image\n",
    "import os\n",
    "from spellchecker import SpellChecker\n",
    "import matplotlib.pyplot as plt\n",
    "import shutil\n",
    "\n",
    "OUTPUT_FOLDER = r'F:/Research/OCR/Outputs/AllDocumentsByTopic/'\n",
    "\n",
    "# First, read all the output .txt files\n",
    "print(\"Reading files\")\n",
    "texts = read_and_return(r'F:\\Research\\OCR\\Code')\n",
    "\n",
    "\n",
    "# Second, train the LDA model (pre-processing is internally done)\n",
    "print(\"Preprocessing Text\")\n",
    "textlist = [t[1] for t in texts]\n",
    "ldamodel, dictionary = run_lda(textlist)\n",
    "\n",
    "\n",
    "# Third, extract the top topic for each document\n",
    "print(\"Extracting Topics\")\n",
    "topics = []\n",
    "for t in texts:\n",
    "    topics.append((t[0], find_topic([t[1]], dictionary, ldamodel)))\n",
    "\n",
    "\n",
    "# Convert topics to topic names\n",
    "for i in range(len(topics)):\n",
    "    topnum = topics[i][1][0][0]\n",
    "    #print(topnum)\n",
    "    topics[i][1][0] = topic_label(ldamodel, topnum)\n",
    "    # [(filename, topic), ..., (filename, topic)]\n",
    "\n",
    "\n",
    "# Create folders for the topics\n",
    "print(\"Copying Documents into Topic Folders\")\n",
    "foundtopics = []\n",
    "for t in topics:\n",
    "    foundtopics+= t[1]\n",
    "foundtopics = set(foundtopics)\n",
    "topicfolders = [os.path.join(OUTPUT_FOLDER, f) for f in foundtopics]\n",
    "[os.makedirs(m) for m in topicfolders]\n",
    "\n",
    "# Copy files into appropriate topic folders\n",
    "for t in topics:\n",
    "    filename, topic = t\n",
    "    src = filename\n",
    "    filename = filename.split(\"\\\\\")\n",
    "    dest = os.path.join(OUTPUT_FOLDER, topic[0])\n",
    "    dest = dest + \"/\" + filename[-1]\n",
    "    copystr = \"copy \" + src + \" \" + dest\n",
    "    shutil.copyfile(src, dest)\n",
    "\n",
    "print(\"Done\")"
   ]
  },
  {
   "cell_type": "code",
   "execution_count": 48,
   "metadata": {},
   "outputs": [],
   "source": [
    "import tqdm\n",
    "\n",
    "tqdm.tqdm()"
   ]
  },
  {
   "cell_type": "code",
   "execution_count": 18,
   "metadata": {},
   "outputs": [
    {
     "ename": "IndexError",
     "evalue": "list index out of range",
     "output_type": "error",
     "traceback": [
      "\u001b[1;31m---------------------------------------------------------------------------\u001b[0m",
      "\u001b[1;31mIndexError\u001b[0m                                Traceback (most recent call last)",
      "\u001b[1;32m<ipython-input-18-ef0a457939eb>\u001b[0m in \u001b[0;36m<module>\u001b[1;34m\u001b[0m\n\u001b[0;32m      1\u001b[0m \u001b[1;31m# Convert topics to topic names\u001b[0m\u001b[1;33m\u001b[0m\u001b[1;33m\u001b[0m\u001b[1;33m\u001b[0m\u001b[0m\n\u001b[0;32m      2\u001b[0m \u001b[1;32mfor\u001b[0m \u001b[0mi\u001b[0m \u001b[1;32min\u001b[0m \u001b[0mrange\u001b[0m\u001b[1;33m(\u001b[0m\u001b[0mlen\u001b[0m\u001b[1;33m(\u001b[0m\u001b[0mtopics\u001b[0m\u001b[1;33m)\u001b[0m\u001b[1;33m)\u001b[0m\u001b[1;33m:\u001b[0m\u001b[1;33m\u001b[0m\u001b[1;33m\u001b[0m\u001b[0m\n\u001b[1;32m----> 3\u001b[1;33m     \u001b[0mtopnum\u001b[0m \u001b[1;33m=\u001b[0m \u001b[0mtopics\u001b[0m\u001b[1;33m[\u001b[0m\u001b[0mi\u001b[0m\u001b[1;33m]\u001b[0m\u001b[1;33m[\u001b[0m\u001b[1;36m1\u001b[0m\u001b[1;33m]\u001b[0m\u001b[1;33m[\u001b[0m\u001b[1;36m0\u001b[0m\u001b[1;33m]\u001b[0m\u001b[1;33m\u001b[0m\u001b[1;33m\u001b[0m\u001b[0m\n\u001b[0m\u001b[0;32m      4\u001b[0m     \u001b[0mprint\u001b[0m\u001b[1;33m(\u001b[0m\u001b[0mtopnum\u001b[0m\u001b[1;33m)\u001b[0m\u001b[1;33m\u001b[0m\u001b[1;33m\u001b[0m\u001b[0m\n\u001b[0;32m      5\u001b[0m     \u001b[0mtopics\u001b[0m\u001b[1;33m[\u001b[0m\u001b[0mi\u001b[0m\u001b[1;33m]\u001b[0m\u001b[1;33m[\u001b[0m\u001b[1;36m1\u001b[0m\u001b[1;33m]\u001b[0m\u001b[1;33m[\u001b[0m\u001b[1;36m0\u001b[0m\u001b[1;33m]\u001b[0m \u001b[1;33m=\u001b[0m \u001b[0mtopic_label\u001b[0m\u001b[1;33m(\u001b[0m\u001b[0mldamodel\u001b[0m\u001b[1;33m,\u001b[0m \u001b[0mtopnum\u001b[0m\u001b[1;33m)\u001b[0m\u001b[1;33m\u001b[0m\u001b[1;33m\u001b[0m\u001b[0m\n",
      "\u001b[1;31mIndexError\u001b[0m: list index out of range"
     ]
    }
   ],
   "source": [
    "# Convert topics to topic names\n",
    "for i in range(len(topics)):\n",
    "    topnum = topics[i][1][0]\n",
    "    print(topnum)\n",
    "    topics[i][1][0] = topic_label(ldamodel, topnum)\n",
    "    # [(filename, topic), ..., (filename, topic)]\n",
    "\n",
    "# Create folders for the topics\n",
    "foundtopics = []\n",
    "for t in topics:\n",
    "    foundtopics.append(t[0][0])\n",
    "foundtopics = set(foundtopics)\n",
    "        "
   ]
  },
  {
   "cell_type": "code",
   "execution_count": 14,
   "metadata": {},
   "outputs": [
    {
     "data": {
      "text/plain": [
       "{0, 1, 2, 6, 7, 8}"
      ]
     },
     "execution_count": 14,
     "metadata": {},
     "output_type": "execute_result"
    }
   ],
   "source": [
    "foundtopics"
   ]
  },
  {
   "cell_type": "code",
   "execution_count": null,
   "metadata": {},
   "outputs": [],
   "source": []
  }
 ],
 "metadata": {
  "kernelspec": {
   "display_name": "Python 3",
   "language": "python",
   "name": "python3"
  },
  "language_info": {
   "codemirror_mode": {
    "name": "ipython",
    "version": 3
   },
   "file_extension": ".py",
   "mimetype": "text/x-python",
   "name": "python",
   "nbconvert_exporter": "python",
   "pygments_lexer": "ipython3",
   "version": "3.8.2"
  }
 },
 "nbformat": 4,
 "nbformat_minor": 4
}
